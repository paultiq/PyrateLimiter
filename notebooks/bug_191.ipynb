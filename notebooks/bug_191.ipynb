{
 "cells": [
  {
   "cell_type": "code",
   "execution_count": 1,
   "id": "3cde5a97",
   "metadata": {},
   "outputs": [],
   "source": [
    "import logging\n",
    "#from benchmarks.stress_limiters import *\n",
    "\n",
    "logging.basicConfig(\n",
    "    format='%(asctime)s %(name)s %(levelname)-8s %(message)s',\n",
    "    level=logging.INFO,\n",
    "    datefmt='%Y-%m-%d %H:%M:%S')\n",
    "\n",
    "logger = logging.getLogger(__name__)\n"
   ]
  },
  {
   "cell_type": "code",
   "execution_count": 4,
   "id": "95e221b7",
   "metadata": {},
   "outputs": [
    {
     "name": "stderr",
     "output_type": "stream",
     "text": [
      "docker: Error response from daemon: Conflict. The container name \"/redis-test\" is already in use by container \"a3eee2373b2ea343b46b216e638dedc888c54a0a49fa28943a3d26264005c311\". You have to remove (or rename) that container to be able to reuse that name.\n",
      "\n",
      "Run 'docker run --help' for more information\n"
     ]
    }
   ],
   "source": [
    "!docker run -d --name redis-test -p 6379:6379 redis:7\n"
   ]
  },
  {
   "cell_type": "code",
   "execution_count": 2,
   "id": "94516d54",
   "metadata": {},
   "outputs": [
    {
     "name": "stdout",
     "output_type": "stream",
     "text": [
      "2025-07-19 13:38:22.248871 0: 1, acquired=True\n",
      "2025-07-19 13:38:22.251988 1: 1, acquired=True\n",
      "2025-07-19 13:38:22.252490 2: 1, acquired=True\n",
      "2025-07-19 13:38:25.313376 3: 1, acquired=True\n",
      "2025-07-19 13:38:25.314969 4: 1, acquired=True\n",
      "2025-07-19 13:38:25.315476 5: 1, acquired=True\n",
      "2025-07-19 13:38:28.357963 6: 1, acquired=True\n",
      "2025-07-19 13:38:28.358966 7: 1, acquired=True\n",
      "2025-07-19 13:38:28.358966 8: 1, acquired=True\n",
      "2025-07-19 13:38:31.404529 9: 1, acquired=True\n",
      "Run 10 calls in 9.16 sec\n",
      "2025-07-19 13:38:34.432072 1: 1, acquired=True\n",
      "2025-07-19 13:38:34.433073 0: 1, acquired=True\n",
      "2025-07-19 13:38:34.434072 2: 1, acquired=True\n",
      "2025-07-19 13:38:37.496899 9: 1, acquired=True\n",
      "2025-07-19 13:38:37.497897 3: 1, acquired=True\n",
      "2025-07-19 13:38:37.497897 4: 1, acquired=True\n",
      "2025-07-19 13:38:40.604443 8: 1, acquired=True\n",
      "2025-07-19 13:38:40.604950 7: 1, acquired=True\n",
      "2025-07-19 13:38:40.604950 5: 1, acquired=True\n",
      "2025-07-19 13:38:43.746471 6: 1, acquired=True\n",
      "Run 10 calls in 9.32 sec\n"
     ]
    },
    {
     "ename": "NameError",
     "evalue": "name 'o' is not defined",
     "output_type": "error",
     "traceback": [
      "\u001b[31m---------------------------------------------------------------------------\u001b[39m",
      "\u001b[31mNameError\u001b[39m                                 Traceback (most recent call last)",
      "\u001b[36mCell\u001b[39m\u001b[36m \u001b[39m\u001b[32mIn[2]\u001b[39m\u001b[32m, line 28\u001b[39m\n\u001b[32m     26\u001b[39m start = time.time()\n\u001b[32m     27\u001b[39m \u001b[38;5;28;01mawait\u001b[39;00m asyncio.gather(*[task(\u001b[38;5;28mstr\u001b[39m(i), \u001b[32m1\u001b[39m) \u001b[38;5;28;01mfor\u001b[39;00m i \u001b[38;5;129;01min\u001b[39;00m \u001b[38;5;28mrange\u001b[39m(\u001b[32m10\u001b[39m)])\n\u001b[32m---> \u001b[39m\u001b[32m28\u001b[39m \u001b[38;5;28mprint\u001b[39m(\u001b[33mf\u001b[39m\u001b[33m'\u001b[39m\u001b[33mRun 10 calls in \u001b[39m\u001b[38;5;132;01m{\u001b[39;00mtime.time()\u001b[38;5;250m \u001b[39m-\u001b[38;5;250m \u001b[39mstart\u001b[38;5;132;01m:\u001b[39;00m\u001b[33m,.2f\u001b[39m\u001b[38;5;132;01m}\u001b[39;00m\u001b[33m sec\u001b[39m\u001b[33m'\u001b[39m);o,\n",
      "\u001b[31mNameError\u001b[39m: name 'o' is not defined"
     ]
    }
   ],
   "source": [
    "import time\n",
    "import asyncio\n",
    "from datetime import datetime\n",
    "from redis.asyncio import Redis\n",
    "from pyrate_limiter import Duration, Rate, Limiter, RedisBucket\n",
    "\n",
    "rate_limits = [Rate(3, Duration.SECOND * 3)]\n",
    "redis = Redis(host=\"localhost\")\n",
    "bucket = await RedisBucket.init(rate_limits, redis, \"test\")\n",
    "\n",
    "limiter = Limiter(bucket, raise_when_fail=True, max_delay=Duration.DAY, retry_until_max_delay=True)\n",
    "\n",
    "async def task(name, weight):\n",
    "    acquired = await limiter.try_acquire(name, weight)\n",
    "    print(f\"{datetime.now()} {name}: {weight}, {acquired=}\")\n",
    "\n",
    "start = time.time()\n",
    "# Works good\n",
    "for i in range(10):\n",
    "    await task(str(i), 1)\n",
    "print(f'Run 10 calls in {time.time() - start:,.2f} sec')\n",
    "\n",
    "await asyncio.sleep(3)\n",
    "\n",
    "# Doen't work\n",
    "start = time.time()\n",
    "await asyncio.gather(*[task(str(i), 1) for i in range(10)])\n",
    "print(f'Run 10 calls in {time.time() - start:,.2f} sec');"
   ]
  }
 ],
 "metadata": {
  "kernelspec": {
   "display_name": "edgartools",
   "language": "python",
   "name": "python3"
  },
  "language_info": {
   "codemirror_mode": {
    "name": "ipython",
    "version": 3
   },
   "file_extension": ".py",
   "mimetype": "text/x-python",
   "name": "python",
   "nbconvert_exporter": "python",
   "pygments_lexer": "ipython3",
   "version": "3.12.9"
  }
 },
 "nbformat": 4,
 "nbformat_minor": 5
}
