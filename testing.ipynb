{
 "cells": [
  {
   "cell_type": "code",
   "execution_count": null,
   "id": "148d5b5d",
   "metadata": {},
   "outputs": [
    {
     "name": "stdout",
     "output_type": "stream",
     "text": [
      "Calling 0 0Calling 1 0\n",
      "Calling 2 0\n",
      "\n",
      "Calling 3 60Calling 4 60\n",
      "Calling 5 60\n",
      "\n",
      "Done 1 at 100\n",
      "Done 0 at 100\n",
      "Done 2 at 100\n",
      "Calling 6 120\n",
      "Calling 7 120\n",
      "Calling 8 120\n",
      "Done 4 at 160\n",
      "Done 5 at 160\n",
      "Done 3 at 160\n",
      "Calling 9 180\n",
      "Done 7 at 220Done 8 at 220\n",
      "Done 6 at 220\n",
      "\n",
      "Done 9 at 280\n"
     ]
    }
   ],
   "source": [
    "import time\n",
    "from multiprocessing.dummy import Pool\n",
    "\n",
    "from pyrate_limiter import InMemoryBucket\n",
    "from pyrate_limiter import Limiter, Duration, Rate\n",
    "\n",
    "limit_s = 3\n",
    "max_delay_s=70\n",
    "\n",
    "rates = [Rate(limit_s, Duration.SECOND * 60)]\n",
    "\n",
    "bucket = InMemoryBucket(rates)\n",
    "\n",
    "rate_limiter = Limiter(bucket, max_delay=max_delay_s*Duration.SECOND, raise_when_fail=True).as_decorator()\n",
    "\n",
    "\n",
    "start = time.time()\n",
    "\n",
    "def mapping(*args, **kwargs):\n",
    "    return \"check\", 1\n",
    "\n",
    "@rate_limiter(mapping)\n",
    "def check_rate_limiter(i):\n",
    "    print(f\"Calling {i} {round(time.time() - start)}\")\n",
    "    time.sleep(100)\n",
    "    print(f\"Done {i} at {round(time.time() - start)}\")\n",
    "\n",
    "\n",
    "if __name__ == \"__main__\":\n",
    "    x = list(range(10))\n",
    "\n",
    "    with Pool(processes=10) as p:\n",
    "        p.map(check_rate_limiter, x) "
   ]
  }
 ],
 "metadata": {
  "kernelspec": {
   "display_name": "edgartools",
   "language": "python",
   "name": "python3"
  },
  "language_info": {
   "codemirror_mode": {
    "name": "ipython",
    "version": 3
   },
   "file_extension": ".py",
   "mimetype": "text/x-python",
   "name": "python",
   "nbconvert_exporter": "python",
   "pygments_lexer": "ipython3",
   "version": "3.12.9"
  }
 },
 "nbformat": 4,
 "nbformat_minor": 5
}
